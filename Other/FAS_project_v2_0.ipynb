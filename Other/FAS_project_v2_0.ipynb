{
 "cells": [
  {
   "cell_type": "code",
   "execution_count": 15,
   "metadata": {
    "scrolled": true
   },
   "outputs": [],
   "source": [
    "def importfTempdata(import_file_path,excel_file_path,config,table_name,dbname,paymode,status,trandate,insucode,username):\n",
    "    import mysql.connector\n",
    "    from mysql.connector import errorcode\n",
    "    import sqlalchemy\n",
    "    import warnings\n",
    "    from warnings import filterwarnings\n",
    "    import pandas as pd\n",
    "    import numpy as np\n",
    "    import datetime\n",
    "    import os\n",
    "    import getpass\n",
    "    import xlwings as xw\n",
    "    import glob\n",
    "    from datetime import timedelta, datetime\n",
    "    \n",
    "    df_combine = []\n",
    "    xl = pd.ExcelFile(import_file_path,index_col = None)\n",
    "    for sheetname in xl.sheet_names:\n",
    "        dat = xl.parse(sheetname)\n",
    "        dat.columns = dat.columns.str.strip() # remove whitespace in column name\n",
    "        dat['file_name'] = import_file_path.split('\\\\')[-1:][0]\n",
    "        df_combine.append(dat)\n",
    "        data = pd.concat(df_combine,axis = 0)\n",
    "    \n",
    "    #remane col error named\n",
    "    numcol = 1\n",
    "    for cols in data.columns:\n",
    "        if cols.find('/') != -1 or cols.find(')') != -1 or cols.find('(') != -1:\n",
    "            data.rename(columns = {cols: 'ERR_COL_N' + str(numcol)},inplace = True)\n",
    "            numcol += 1\n",
    "      \n",
    "    data['PAYMODE'] = paymode\n",
    "    data['STATUS'] = status\n",
    "    datacols = data.columns.values\n",
    "    \n",
    "    wb =  xw.Book(excel_file_path)\n",
    "    wb.sheets['fTempdata'].range('A10').value  = datacols\n",
    "    \n",
    "    data['TRANDATE'] = trandate\n",
    "    data['INSUCODE'] = insucode\n",
    "    data['USERNAME'] = username\n",
    "    data['SYSTDATE'] = datetime.utcnow().strftime('%Y-%m-%d %H:%M:%S')\n",
    "    data['SYSTUSER'] = getpass.getuser()\n",
    "    \n",
    "    try:\n",
    "        cnx = mysql.connector.connect(**config)\n",
    "        cursor = cnx.cursor()\n",
    "        cursor.execute(\"ALTER DATABASE `%s` CHARACTER SET 'utf8' COLLATE 'utf8_unicode_ci'\" % dbname)\n",
    "\n",
    "        #insert value from data frame\n",
    "        data.to_sql(con=cnx, name=table_name, if_exists='replace', flavor='mysql')\n",
    "        #                schema=None, index=True, index_label=None, chunksize=None, \n",
    "        #                dtype=outputdict)\n",
    "        \n",
    "    except mysql.connector.Error as err:\n",
    "        if err.errno == errorcode.ER_ACCESS_DENIED_ERROR:\n",
    "            print(\"Something is wrong with your user name or password\")\n",
    "        elif err.errno == errorcode.ER_BAD_DB_ERROR:\n",
    "            print(\"Database does not exist\")\n",
    "        else:\n",
    "            print(err)\n",
    "    else:\n",
    "        cnx.close()\n",
    "    return 1"
   ]
  },
  {
   "cell_type": "code",
   "execution_count": 21,
   "metadata": {},
   "outputs": [
    {
     "data": {
      "text/plain": [
       "1"
      ]
     },
     "execution_count": 21,
     "metadata": {},
     "output_type": "execute_result"
    }
   ],
   "source": [
    "import_file_path = r'C:\\Users\\NhanTran\\Documents\\Document\\Firis\\Consulting\\1. General\\Reserve\\Reserve Tool\\dt\\BLdata\\201801\\sample\\Trung_HopDongConHL31012018.xls'\n",
    "excel_file_path = r'C:\\Users\\NhanTran\\Documents\\Document\\Firis\\Consulting\\1. General\\Reserve\\Reserve Tool\\Ver\\Firis_Actuarial_Software_v2.1_v180403.xlsm'\n",
    "config = {'user': 'savemone_health','password': 'HealthcAre123','host': '112.213.89.148','database': 'savemone_healthcare','raise_on_warnings': True,}\n",
    "table_name = 'fTempdata'\n",
    "dbname='savemone_healthcare'\n",
    "\n",
    "def getinputfields(import_file_path,excel_file_path):\n",
    "    import pandas as pd\n",
    "    import xlwings as xw\n",
    "    xl = pd.ExcelFile(import_file_path,index_col = None,skiprows=1)\n",
    "    datacols = xl.parse(xl.sheet_names[0]).columns.tolist()\n",
    "    numcol = 1\n",
    "    for (i, cols) in enumerate(datacols):\n",
    "        if cols.find('/') != -1 or cols.find(')') != -1 or cols.find('(') != -1:\n",
    "            datacols[i] = 'ERR_COL_N' + str(numcol)\n",
    "            numcol += 1\n",
    "    wb =  xw.Book(excel_file_path)\n",
    "    wb.sheets['fTempdata'].range('A10:DZ10').value = \"\"\n",
    "    wb.sheets['fTempdata'].range('A10').value  = datacols\n",
    "    return 1\n",
    "getinputfields(import_file_path,excel_file_path)"
   ]
  }
 ],
 "metadata": {
  "anaconda-cloud": {},
  "kernelspec": {
   "display_name": "Python 3",
   "language": "python",
   "name": "python3"
  },
  "language_info": {
   "codemirror_mode": {
    "name": "ipython",
    "version": 3
   },
   "file_extension": ".py",
   "mimetype": "text/x-python",
   "name": "python",
   "nbconvert_exporter": "python",
   "pygments_lexer": "ipython3",
   "version": "3.7.3"
  }
 },
 "nbformat": 4,
 "nbformat_minor": 1
}
